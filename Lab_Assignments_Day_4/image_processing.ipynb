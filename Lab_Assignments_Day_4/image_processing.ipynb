{
 "cells": [
  {
   "cell_type": "code",
   "execution_count": 1,
   "metadata": {},
   "outputs": [
    {
     "data": {
      "text/plain": [
       "'4.10.0'"
      ]
     },
     "execution_count": 1,
     "metadata": {},
     "output_type": "execute_result"
    }
   ],
   "source": [
    "import cv2 as cv #import openCv\n",
    "cv.__version__"
   ]
  },
  {
   "cell_type": "code",
   "execution_count": 5,
   "metadata": {},
   "outputs": [
    {
     "name": "stdout",
     "output_type": "stream",
     "text": [
      "[[[ 67 108  81]\n",
      "  [ 68 109  82]\n",
      "  [ 68 109  82]\n",
      "  ...\n",
      "  [ 55  94  73]\n",
      "  [ 55  94  73]\n",
      "  [ 55  94  73]]\n",
      "\n",
      " [[ 68 109  82]\n",
      "  [ 68 109  82]\n",
      "  [ 69 110  83]\n",
      "  ...\n",
      "  [ 55  94  73]\n",
      "  [ 55  94  73]\n",
      "  [ 55  94  73]]\n",
      "\n",
      " [[ 68 109  82]\n",
      "  [ 68 109  82]\n",
      "  [ 69 110  83]\n",
      "  ...\n",
      "  [ 55  94  73]\n",
      "  [ 55  94  73]\n",
      "  [ 55  94  73]]\n",
      "\n",
      " ...\n",
      "\n",
      " [[ 63  97  87]\n",
      "  [ 61  95  85]\n",
      "  [ 59  94  84]\n",
      "  ...\n",
      "  [ 53  96  99]\n",
      "  [ 50  93  96]\n",
      "  [ 46  89  92]]\n",
      "\n",
      " [[ 64  98  88]\n",
      "  [ 61  95  85]\n",
      "  [ 58  93  83]\n",
      "  ...\n",
      "  [ 51  93  98]\n",
      "  [ 51  93  98]\n",
      "  [ 50  92  97]]\n",
      "\n",
      " [[ 64  98  88]\n",
      "  [ 62  96  86]\n",
      "  [ 58  93  83]\n",
      "  ...\n",
      "  [ 50  92  97]\n",
      "  [ 52  94  99]\n",
      "  [ 53  95 100]]]\n"
     ]
    }
   ],
   "source": [
    "def showcase(text, img):\n",
    "    if img is not None:  # Check if the image was loaded properly\n",
    "        cv.imshow(text, img)   # Show loaded image\n",
    "        cv.waitKey(0)          # Wait for the key to close \n",
    "        cv.destroyAllWindows()  # Destroy image window\n",
    "    else:\n",
    "        print(\"Error: Image not loaded!\")\n",
    "\n",
    "imge = cv.imread(\"D:\\\\Viit\\\\bootcamp\\Day_4\\\\download.jpeg\")  # Load image using cv2 as a numpy array\n",
    "print(imge)  # Check if the image is loaded\n",
    "showcase(\"image\", imge)"
   ]
  },
  {
   "cell_type": "code",
   "execution_count": 7,
   "metadata": {},
   "outputs": [
    {
     "data": {
      "text/plain": [
       "(148, 182, 3)"
      ]
     },
     "execution_count": 7,
     "metadata": {},
     "output_type": "execute_result"
    }
   ],
   "source": [
    "imge.shape"
   ]
  },
  {
   "cell_type": "code",
   "execution_count": 8,
   "metadata": {},
   "outputs": [],
   "source": [
    "# Basic image oprations using opencv\n",
    "resize=cv.resize(imge,(500,500))\n",
    "showcase(\"resize image\",resize)"
   ]
  },
  {
   "cell_type": "code",
   "execution_count": 9,
   "metadata": {},
   "outputs": [],
   "source": [
    "#convert image into grayscale \n",
    "gray_image=cv.cvtColor(resize,cv.COLOR_BGR2GRAY)\n",
    "showcase(\"gray images\",gray_image)"
   ]
  },
  {
   "cell_type": "code",
   "execution_count": 10,
   "metadata": {},
   "outputs": [],
   "source": [
    "#Crop image \n",
    "crop_img=resize[100:400,100:300]\n",
    "showcase(\"crop image\",crop_img)"
   ]
  },
  {
   "cell_type": "code",
   "execution_count": 11,
   "metadata": {},
   "outputs": [],
   "source": [
    "#rotate image\n",
    "(h,w)=resize.shape[:2]\n",
    "center=(w//2,h//2)\n",
    "M=cv.getRotationMatrix2D(center,37,1.0)\n",
    "rotated=cv.warpAffine(resize,M,(w,h))\n",
    "showcase(\"Ratated image\",rotated)"
   ]
  },
  {
   "cell_type": "code",
   "execution_count": 12,
   "metadata": {},
   "outputs": [],
   "source": [
    "#rotate image using rotate function \n",
    "showcase(\"Rotated image using function\",cv.rotate(resize,cv.ROTATE_90_CLOCKWISE))\n"
   ]
  },
  {
   "cell_type": "code",
   "execution_count": 13,
   "metadata": {},
   "outputs": [],
   "source": [
    "#bluring technique-Gaussin Blurring\n",
    "blurred_img=cv.GaussianBlur(resize,(5,5),0)\n",
    "showcase(\"Gausin Blurred image\",blurred_img)\n"
   ]
  },
  {
   "cell_type": "code",
   "execution_count": 14,
   "metadata": {},
   "outputs": [],
   "source": [
    "#bluring technique-median blurring\n",
    "medians=cv.medianBlur(resize,5)\n",
    "showcase(\"medain blur\",medians)"
   ]
  },
  {
   "cell_type": "code",
   "execution_count": 15,
   "metadata": {},
   "outputs": [],
   "source": [
    "#bluring technique-bilateral blurring \n",
    "bila=cv.bilateralFilter(resize,9,75,75)\n",
    "showcase(\"bilateral image\",bila)"
   ]
  },
  {
   "cell_type": "code",
   "execution_count": 16,
   "metadata": {},
   "outputs": [],
   "source": [
    "# bluring technique-average blurring\n",
    "avg=cv.blur(resize,(5,5))\n",
    "showcase(\"Average Bluring\",avg)"
   ]
  },
  {
   "cell_type": "code",
   "execution_count": 17,
   "metadata": {},
   "outputs": [],
   "source": [
    "#image thresholding technique-Binary thresold\n",
    "_,thresh_img=cv.threshold(gray_image,127,255,cv.THRESH_BINARY)\n",
    "showcase(\"Binary tech\",thresh_img)"
   ]
  },
  {
   "cell_type": "code",
   "execution_count": 19,
   "metadata": {},
   "outputs": [],
   "source": [
    "#image thresholding technique-Binary thresold Inverse\n",
    "_,thresh_img=cv.threshold(gray_image,127,255,cv.THRESH_BINARY_INV)\n",
    "showcase(\" Binary Inverse Threshold tech\",thresh_img)"
   ]
  },
  {
   "cell_type": "code",
   "execution_count": 20,
   "metadata": {},
   "outputs": [],
   "source": [
    "#image thresholding technique-Truncate thresold\n",
    "_,thresh_img=cv.threshold(gray_image,127,255,cv.THRESH_TRUNC)\n",
    "showcase(\" Truncate  Threshold tech\",thresh_img)"
   ]
  },
  {
   "cell_type": "code",
   "execution_count": 21,
   "metadata": {},
   "outputs": [],
   "source": [
    "#image thresholding technique-Zero thresold\n",
    "_,thresh_img=cv.threshold(gray_image,127,255,cv.THRESH_TOZERO)\n",
    "showcase(\" Zero Threshold tech\",thresh_img)"
   ]
  },
  {
   "cell_type": "code",
   "execution_count": 22,
   "metadata": {},
   "outputs": [],
   "source": [
    "#image thresholding technique-Zero thresold Inverse\n",
    "_,thresh_img=cv.threshold(gray_image,127,255,cv.THRESH_TOZERO_INV)\n",
    "showcase(\" Inverse  Zero Threshold tech\",thresh_img)"
   ]
  },
  {
   "cell_type": "code",
   "execution_count": 23,
   "metadata": {},
   "outputs": [],
   "source": [
    "#image thresholding technique-Zero thresold Inverse\n",
    "_,thresh_img=cv.threshold(gray_image,127,255,cv.THRESH_TOZERO_INV)\n",
    "showcase(\"Inverse Threshold tech\",thresh_img)"
   ]
  },
  {
   "cell_type": "code",
   "execution_count": 24,
   "metadata": {},
   "outputs": [],
   "source": [
    "#image thresholding technique-Adpative threshold\n",
    "thresh_img=cv.adaptiveThreshold(gray_image,255,cv.ADAPTIVE_THRESH_GAUSSIAN_C,cv.THRESH_BINARY,11,2)\n",
    "showcase(\"adaptive hreshold tech\",thresh_img)"
   ]
  },
  {
   "cell_type": "code",
   "execution_count": 31,
   "metadata": {},
   "outputs": [],
   "source": [
    "#edge detection\n",
    "edges=cv.Canny(resize,200,0)\n",
    "showcase(\"Canne edge\",edges)"
   ]
  },
  {
   "cell_type": "code",
   "execution_count": 32,
   "metadata": {},
   "outputs": [],
   "source": []
  }
 ],
 "metadata": {
  "kernelspec": {
   "display_name": "Python 3",
   "language": "python",
   "name": "python3"
  },
  "language_info": {
   "codemirror_mode": {
    "name": "ipython",
    "version": 3
   },
   "file_extension": ".py",
   "mimetype": "text/x-python",
   "name": "python",
   "nbconvert_exporter": "python",
   "pygments_lexer": "ipython3",
   "version": "3.10.11"
  }
 },
 "nbformat": 4,
 "nbformat_minor": 2
}
